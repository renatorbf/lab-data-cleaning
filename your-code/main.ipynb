{
  "nbformat": 4,
  "nbformat_minor": 0,
  "metadata": {
    "kernelspec": {
      "display_name": "Python 3",
      "language": "python",
      "name": "python3"
    },
    "language_info": {
      "codemirror_mode": {
        "name": "ipython",
        "version": 3
      },
      "file_extension": ".py",
      "mimetype": "text/x-python",
      "name": "python",
      "nbconvert_exporter": "python",
      "pygments_lexer": "ipython3",
      "version": "3.6.8"
    },
    "colab": {
      "name": "main.ipynb",
      "provenance": []
    }
  },
  "cells": [
    {
      "cell_type": "markdown",
      "metadata": {
        "id": "r_unjPJuBKaO"
      },
      "source": [
        "#### 1. Import pandas library"
      ]
    },
    {
      "cell_type": "code",
      "metadata": {
        "id": "pGf7IF-LBKaT"
      },
      "source": [
        "import pandas as pd"
      ],
      "execution_count": 1,
      "outputs": []
    },
    {
      "cell_type": "markdown",
      "metadata": {
        "id": "PpQguiyqBKaT"
      },
      "source": [
        "#### 2. Import users table:"
      ]
    },
    {
      "cell_type": "code",
      "metadata": {
        "id": "8-YlKoPDBKaU"
      },
      "source": [
        "users = pd.read_csv('https://raw.githubusercontent.com/renatorbf/lab-data-cleaning/master/your-code/users_table.csv')"
      ],
      "execution_count": 2,
      "outputs": []
    },
    {
      "cell_type": "markdown",
      "metadata": {
        "id": "S8kUuaO5BKaU"
      },
      "source": [
        "#### 3. Rename Id column to userId"
      ]
    },
    {
      "cell_type": "code",
      "metadata": {
        "id": "D1QN058RBKaV"
      },
      "source": [
        "users.rename(columns={'Id':'userId'}, inplace=True)"
      ],
      "execution_count": 3,
      "outputs": []
    },
    {
      "cell_type": "markdown",
      "metadata": {
        "id": "QF0fh8NfBKaV"
      },
      "source": [
        "#### 4. Import posts table:"
      ]
    },
    {
      "cell_type": "code",
      "metadata": {
        "id": "gCCt2bsnBKaW"
      },
      "source": [
        "posts = pd.read_csv('https://raw.githubusercontent.com/renatorbf/lab-data-cleaning/master/your-code/posts_table.csv')"
      ],
      "execution_count": 4,
      "outputs": []
    },
    {
      "cell_type": "markdown",
      "metadata": {
        "id": "GHSPsNW2BKaW"
      },
      "source": [
        "#### 5. Rename Id column to postId and OwnerUserId to userId"
      ]
    },
    {
      "cell_type": "code",
      "metadata": {
        "id": "8igBrtiCBKaX"
      },
      "source": [
        "posts.rename(columns={'Id':'postId'}, inplace=True)\n",
        "posts.rename(columns={'OwnerUserId':'userId'}, inplace=True)"
      ],
      "execution_count": 5,
      "outputs": []
    },
    {
      "cell_type": "markdown",
      "metadata": {
        "id": "PuGM5pvbBKaX"
      },
      "source": [
        "#### 6. Define new dataframes for users and posts with the following selected columns:\n",
        "    **users columns**: userId, Reputation,Views,UpVotes,DownVotes\n",
        "    **posts columns**: postId, Score,userId,ViewCount,CommentCount"
      ]
    },
    {
      "cell_type": "code",
      "metadata": {
        "id": "Xp-BI6oFBKaX"
      },
      "source": [
        "new_users = users[['userId', 'Reputation', 'Views', 'UpVotes', 'DownVotes']]\n",
        "\n",
        "new_posts = posts[['postId', 'Score', 'userId', 'ViewCount', 'CommentCount']]"
      ],
      "execution_count": 6,
      "outputs": []
    },
    {
      "cell_type": "markdown",
      "metadata": {
        "id": "CgbCDTqmBKaY"
      },
      "source": [
        "#### 7. Merge both dataframes, users and posts. \n",
        "You will need to make a [merge](https://pandas.pydata.org/pandas-docs/stable/generated/pandas.DataFrame.merge.html) of posts and users dataframes."
      ]
    },
    {
      "cell_type": "code",
      "metadata": {
        "id": "9TklMD4mBKaY"
      },
      "source": [
        "merged = pd.merge(left= new_users,\n",
        "         right= new_posts,\n",
        "         left_on = 'userId',\n",
        "         right_on = 'userId')"
      ],
      "execution_count": 30,
      "outputs": []
    },
    {
      "cell_type": "markdown",
      "metadata": {
        "id": "UpaMMbWjBKaZ"
      },
      "source": [
        "#### 8. How many missing values do you have in your merged dataframe? On which columns?"
      ]
    },
    {
      "cell_type": "code",
      "metadata": {
        "id": "EhWMNU61BKaa",
        "outputId": "bb1bbf29-be01-434b-fb73-f0a7d17d2139",
        "colab": {
          "base_uri": "https://localhost:8080/"
        }
      },
      "source": [
        "merged.isnull().value_counts()"
      ],
      "execution_count": 31,
      "outputs": [
        {
          "output_type": "execute_result",
          "data": {
            "text/plain": [
              "userId  Reputation  Views  UpVotes  DownVotes  postId  Score  ViewCount  CommentCount\n",
              "False   False       False  False    False      False   False  True       False           23572\n",
              "                                                              False      False           15390\n",
              "dtype: int64"
            ]
          },
          "metadata": {},
          "execution_count": 31
        }
      ]
    },
    {
      "cell_type": "markdown",
      "metadata": {
        "id": "GeKgi1NrBKaa"
      },
      "source": [
        "#### 9. You will need to make something with missing values.  Will you clean or filling them? Explain. \n",
        "**Remember** to check the results of your code before passing to the next step"
      ]
    },
    {
      "cell_type": "code",
      "metadata": {
        "id": "LndRwK8PBKaa",
        "outputId": "2632e950-4de0-46e8-e371-2a3fabed9937",
        "colab": {
          "base_uri": "https://localhost:8080/",
          "height": 423
        }
      },
      "source": [
        "# we are only missing the ViewCount, as the number of missing values is high (over 50%) we can drop them\n",
        "\n",
        "merged = merged.drop(columns='ViewCount')\n",
        "merged"
      ],
      "execution_count": 32,
      "outputs": [
        {
          "output_type": "execute_result",
          "data": {
            "text/html": [
              "\n",
              "  <div id=\"df-fa630f17-23a2-420b-b73a-690ea34ac337\">\n",
              "    <div class=\"colab-df-container\">\n",
              "      <div>\n",
              "<style scoped>\n",
              "    .dataframe tbody tr th:only-of-type {\n",
              "        vertical-align: middle;\n",
              "    }\n",
              "\n",
              "    .dataframe tbody tr th {\n",
              "        vertical-align: top;\n",
              "    }\n",
              "\n",
              "    .dataframe thead th {\n",
              "        text-align: right;\n",
              "    }\n",
              "</style>\n",
              "<table border=\"1\" class=\"dataframe\">\n",
              "  <thead>\n",
              "    <tr style=\"text-align: right;\">\n",
              "      <th></th>\n",
              "      <th>userId</th>\n",
              "      <th>Reputation</th>\n",
              "      <th>Views</th>\n",
              "      <th>UpVotes</th>\n",
              "      <th>DownVotes</th>\n",
              "      <th>postId</th>\n",
              "      <th>Score</th>\n",
              "      <th>CommentCount</th>\n",
              "    </tr>\n",
              "  </thead>\n",
              "  <tbody>\n",
              "    <tr>\n",
              "      <th>0</th>\n",
              "      <td>-1</td>\n",
              "      <td>1</td>\n",
              "      <td>0</td>\n",
              "      <td>5007</td>\n",
              "      <td>1920</td>\n",
              "      <td>2175</td>\n",
              "      <td>0</td>\n",
              "      <td>0</td>\n",
              "    </tr>\n",
              "    <tr>\n",
              "      <th>1</th>\n",
              "      <td>-1</td>\n",
              "      <td>1</td>\n",
              "      <td>0</td>\n",
              "      <td>5007</td>\n",
              "      <td>1920</td>\n",
              "      <td>8576</td>\n",
              "      <td>0</td>\n",
              "      <td>0</td>\n",
              "    </tr>\n",
              "    <tr>\n",
              "      <th>2</th>\n",
              "      <td>-1</td>\n",
              "      <td>1</td>\n",
              "      <td>0</td>\n",
              "      <td>5007</td>\n",
              "      <td>1920</td>\n",
              "      <td>8578</td>\n",
              "      <td>0</td>\n",
              "      <td>0</td>\n",
              "    </tr>\n",
              "    <tr>\n",
              "      <th>3</th>\n",
              "      <td>-1</td>\n",
              "      <td>1</td>\n",
              "      <td>0</td>\n",
              "      <td>5007</td>\n",
              "      <td>1920</td>\n",
              "      <td>8981</td>\n",
              "      <td>0</td>\n",
              "      <td>0</td>\n",
              "    </tr>\n",
              "    <tr>\n",
              "      <th>4</th>\n",
              "      <td>-1</td>\n",
              "      <td>1</td>\n",
              "      <td>0</td>\n",
              "      <td>5007</td>\n",
              "      <td>1920</td>\n",
              "      <td>8982</td>\n",
              "      <td>0</td>\n",
              "      <td>0</td>\n",
              "    </tr>\n",
              "    <tr>\n",
              "      <th>...</th>\n",
              "      <td>...</td>\n",
              "      <td>...</td>\n",
              "      <td>...</td>\n",
              "      <td>...</td>\n",
              "      <td>...</td>\n",
              "      <td>...</td>\n",
              "      <td>...</td>\n",
              "      <td>...</td>\n",
              "    </tr>\n",
              "    <tr>\n",
              "      <th>38957</th>\n",
              "      <td>45934</td>\n",
              "      <td>11</td>\n",
              "      <td>1</td>\n",
              "      <td>0</td>\n",
              "      <td>0</td>\n",
              "      <td>34003</td>\n",
              "      <td>1</td>\n",
              "      <td>2</td>\n",
              "    </tr>\n",
              "    <tr>\n",
              "      <th>38958</th>\n",
              "      <td>46192</td>\n",
              "      <td>36</td>\n",
              "      <td>1</td>\n",
              "      <td>0</td>\n",
              "      <td>0</td>\n",
              "      <td>40667</td>\n",
              "      <td>5</td>\n",
              "      <td>2</td>\n",
              "    </tr>\n",
              "    <tr>\n",
              "      <th>38959</th>\n",
              "      <td>46522</td>\n",
              "      <td>235</td>\n",
              "      <td>13</td>\n",
              "      <td>27</td>\n",
              "      <td>1</td>\n",
              "      <td>17461</td>\n",
              "      <td>3</td>\n",
              "      <td>0</td>\n",
              "    </tr>\n",
              "    <tr>\n",
              "      <th>38960</th>\n",
              "      <td>52371</td>\n",
              "      <td>221</td>\n",
              "      <td>2</td>\n",
              "      <td>0</td>\n",
              "      <td>0</td>\n",
              "      <td>27237</td>\n",
              "      <td>24</td>\n",
              "      <td>5</td>\n",
              "    </tr>\n",
              "    <tr>\n",
              "      <th>38961</th>\n",
              "      <td>55226</td>\n",
              "      <td>119</td>\n",
              "      <td>2</td>\n",
              "      <td>3</td>\n",
              "      <td>0</td>\n",
              "      <td>16176</td>\n",
              "      <td>1</td>\n",
              "      <td>0</td>\n",
              "    </tr>\n",
              "  </tbody>\n",
              "</table>\n",
              "<p>38962 rows × 8 columns</p>\n",
              "</div>\n",
              "      <button class=\"colab-df-convert\" onclick=\"convertToInteractive('df-fa630f17-23a2-420b-b73a-690ea34ac337')\"\n",
              "              title=\"Convert this dataframe to an interactive table.\"\n",
              "              style=\"display:none;\">\n",
              "        \n",
              "  <svg xmlns=\"http://www.w3.org/2000/svg\" height=\"24px\"viewBox=\"0 0 24 24\"\n",
              "       width=\"24px\">\n",
              "    <path d=\"M0 0h24v24H0V0z\" fill=\"none\"/>\n",
              "    <path d=\"M18.56 5.44l.94 2.06.94-2.06 2.06-.94-2.06-.94-.94-2.06-.94 2.06-2.06.94zm-11 1L8.5 8.5l.94-2.06 2.06-.94-2.06-.94L8.5 2.5l-.94 2.06-2.06.94zm10 10l.94 2.06.94-2.06 2.06-.94-2.06-.94-.94-2.06-.94 2.06-2.06.94z\"/><path d=\"M17.41 7.96l-1.37-1.37c-.4-.4-.92-.59-1.43-.59-.52 0-1.04.2-1.43.59L10.3 9.45l-7.72 7.72c-.78.78-.78 2.05 0 2.83L4 21.41c.39.39.9.59 1.41.59.51 0 1.02-.2 1.41-.59l7.78-7.78 2.81-2.81c.8-.78.8-2.07 0-2.86zM5.41 20L4 18.59l7.72-7.72 1.47 1.35L5.41 20z\"/>\n",
              "  </svg>\n",
              "      </button>\n",
              "      \n",
              "  <style>\n",
              "    .colab-df-container {\n",
              "      display:flex;\n",
              "      flex-wrap:wrap;\n",
              "      gap: 12px;\n",
              "    }\n",
              "\n",
              "    .colab-df-convert {\n",
              "      background-color: #E8F0FE;\n",
              "      border: none;\n",
              "      border-radius: 50%;\n",
              "      cursor: pointer;\n",
              "      display: none;\n",
              "      fill: #1967D2;\n",
              "      height: 32px;\n",
              "      padding: 0 0 0 0;\n",
              "      width: 32px;\n",
              "    }\n",
              "\n",
              "    .colab-df-convert:hover {\n",
              "      background-color: #E2EBFA;\n",
              "      box-shadow: 0px 1px 2px rgba(60, 64, 67, 0.3), 0px 1px 3px 1px rgba(60, 64, 67, 0.15);\n",
              "      fill: #174EA6;\n",
              "    }\n",
              "\n",
              "    [theme=dark] .colab-df-convert {\n",
              "      background-color: #3B4455;\n",
              "      fill: #D2E3FC;\n",
              "    }\n",
              "\n",
              "    [theme=dark] .colab-df-convert:hover {\n",
              "      background-color: #434B5C;\n",
              "      box-shadow: 0px 1px 3px 1px rgba(0, 0, 0, 0.15);\n",
              "      filter: drop-shadow(0px 1px 2px rgba(0, 0, 0, 0.3));\n",
              "      fill: #FFFFFF;\n",
              "    }\n",
              "  </style>\n",
              "\n",
              "      <script>\n",
              "        const buttonEl =\n",
              "          document.querySelector('#df-fa630f17-23a2-420b-b73a-690ea34ac337 button.colab-df-convert');\n",
              "        buttonEl.style.display =\n",
              "          google.colab.kernel.accessAllowed ? 'block' : 'none';\n",
              "\n",
              "        async function convertToInteractive(key) {\n",
              "          const element = document.querySelector('#df-fa630f17-23a2-420b-b73a-690ea34ac337');\n",
              "          const dataTable =\n",
              "            await google.colab.kernel.invokeFunction('convertToInteractive',\n",
              "                                                     [key], {});\n",
              "          if (!dataTable) return;\n",
              "\n",
              "          const docLinkHtml = 'Like what you see? Visit the ' +\n",
              "            '<a target=\"_blank\" href=https://colab.research.google.com/notebooks/data_table.ipynb>data table notebook</a>'\n",
              "            + ' to learn more about interactive tables.';\n",
              "          element.innerHTML = '';\n",
              "          dataTable['output_type'] = 'display_data';\n",
              "          await google.colab.output.renderOutput(dataTable, element);\n",
              "          const docLink = document.createElement('div');\n",
              "          docLink.innerHTML = docLinkHtml;\n",
              "          element.appendChild(docLink);\n",
              "        }\n",
              "      </script>\n",
              "    </div>\n",
              "  </div>\n",
              "  "
            ],
            "text/plain": [
              "       userId  Reputation  Views  ...  postId  Score  CommentCount\n",
              "0          -1           1      0  ...    2175      0             0\n",
              "1          -1           1      0  ...    8576      0             0\n",
              "2          -1           1      0  ...    8578      0             0\n",
              "3          -1           1      0  ...    8981      0             0\n",
              "4          -1           1      0  ...    8982      0             0\n",
              "...       ...         ...    ...  ...     ...    ...           ...\n",
              "38957   45934          11      1  ...   34003      1             2\n",
              "38958   46192          36      1  ...   40667      5             2\n",
              "38959   46522         235     13  ...   17461      3             0\n",
              "38960   52371         221      2  ...   27237     24             5\n",
              "38961   55226         119      2  ...   16176      1             0\n",
              "\n",
              "[38962 rows x 8 columns]"
            ]
          },
          "metadata": {},
          "execution_count": 32
        }
      ]
    },
    {
      "cell_type": "markdown",
      "metadata": {
        "id": "8he5ZFUrBKaa"
      },
      "source": [
        "#### 10. Adjust the data types in order to avoid future issues. Which ones should be changed? "
      ]
    },
    {
      "cell_type": "code",
      "metadata": {
        "id": "C47kJR-MBKab",
        "outputId": "39a2031c-67e7-4681-d611-8cbd415d43dc",
        "colab": {
          "base_uri": "https://localhost:8080/"
        }
      },
      "source": [
        "merged.dtypes\n",
        "\n",
        "# i think these types are ok"
      ],
      "execution_count": 34,
      "outputs": [
        {
          "output_type": "execute_result",
          "data": {
            "text/plain": [
              "userId          int64\n",
              "Reputation      int64\n",
              "Views           int64\n",
              "UpVotes         int64\n",
              "DownVotes       int64\n",
              "postId          int64\n",
              "Score           int64\n",
              "CommentCount    int64\n",
              "dtype: object"
            ]
          },
          "metadata": {},
          "execution_count": 34
        }
      ]
    }
  ]
}