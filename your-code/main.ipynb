{
  "nbformat": 4,
  "nbformat_minor": 0,
  "metadata": {
    "kernelspec": {
      "display_name": "Python 3",
      "language": "python",
      "name": "python3"
    },
    "language_info": {
      "codemirror_mode": {
        "name": "ipython",
        "version": 3
      },
      "file_extension": ".py",
      "mimetype": "text/x-python",
      "name": "python",
      "nbconvert_exporter": "python",
      "pygments_lexer": "ipython3",
      "version": "3.6.8"
    },
    "colab": {
      "name": "main.ipynb",
      "provenance": []
    }
  },
  "cells": [
    {
      "cell_type": "markdown",
      "metadata": {
        "id": "r_unjPJuBKaO"
      },
      "source": [
        "#### 1. Import pandas library"
      ]
    },
    {
      "cell_type": "code",
      "metadata": {
        "id": "pGf7IF-LBKaT"
      },
      "source": [
        "import pandas as pd"
      ],
      "execution_count": 1,
      "outputs": []
    },
    {
      "cell_type": "markdown",
      "metadata": {
        "id": "PpQguiyqBKaT"
      },
      "source": [
        "#### 2. Import users table:"
      ]
    },
    {
      "cell_type": "code",
      "metadata": {
        "id": "8-YlKoPDBKaU"
      },
      "source": [
        "users = pd.read_csv('https://raw.githubusercontent.com/renatorbf/lab-data-cleaning/master/your-code/users_table.csv')"
      ],
      "execution_count": 2,
      "outputs": []
    },
    {
      "cell_type": "markdown",
      "metadata": {
        "id": "S8kUuaO5BKaU"
      },
      "source": [
        "#### 3. Rename Id column to userId"
      ]
    },
    {
      "cell_type": "code",
      "metadata": {
        "id": "D1QN058RBKaV",
        "outputId": "da13da91-962e-420c-dd99-7454b3c620f6",
        "colab": {
          "base_uri": "https://localhost:8080/",
          "height": 347
        }
      },
      "source": [
        "users.rename(columns={'Id':'userId'}, inplace=True)"
      ],
      "execution_count": 4,
      "outputs": [
        {
          "output_type": "execute_result",
          "data": {
            "text/html": [
              "<div>\n",
              "<style scoped>\n",
              "    .dataframe tbody tr th:only-of-type {\n",
              "        vertical-align: middle;\n",
              "    }\n",
              "\n",
              "    .dataframe tbody tr th {\n",
              "        vertical-align: top;\n",
              "    }\n",
              "\n",
              "    .dataframe thead th {\n",
              "        text-align: right;\n",
              "    }\n",
              "</style>\n",
              "<table border=\"1\" class=\"dataframe\">\n",
              "  <thead>\n",
              "    <tr style=\"text-align: right;\">\n",
              "      <th></th>\n",
              "      <th>userId</th>\n",
              "      <th>Reputation</th>\n",
              "      <th>CreationDate</th>\n",
              "      <th>DisplayName</th>\n",
              "      <th>LastAccessDate</th>\n",
              "      <th>WebsiteUrl</th>\n",
              "      <th>Location</th>\n",
              "      <th>AboutMe</th>\n",
              "      <th>Views</th>\n",
              "      <th>UpVotes</th>\n",
              "      <th>DownVotes</th>\n",
              "      <th>AccountId</th>\n",
              "      <th>Age</th>\n",
              "      <th>ProfileImageUrl</th>\n",
              "    </tr>\n",
              "  </thead>\n",
              "  <tbody>\n",
              "    <tr>\n",
              "      <th>0</th>\n",
              "      <td>-1</td>\n",
              "      <td>1</td>\n",
              "      <td>2010-07-19 06:55:26</td>\n",
              "      <td>Community</td>\n",
              "      <td>2010-07-19 06:55:26</td>\n",
              "      <td>http://meta.stackexchange.com/</td>\n",
              "      <td>on the server farm</td>\n",
              "      <td>&lt;p&gt;Hi, I'm not really a person.&lt;/p&gt;\\n\\n&lt;p&gt;I'm ...</td>\n",
              "      <td>0</td>\n",
              "      <td>5007</td>\n",
              "      <td>1920</td>\n",
              "      <td>-1</td>\n",
              "      <td>NaN</td>\n",
              "      <td>NaN</td>\n",
              "    </tr>\n",
              "    <tr>\n",
              "      <th>1</th>\n",
              "      <td>2</td>\n",
              "      <td>101</td>\n",
              "      <td>2010-07-19 14:01:36</td>\n",
              "      <td>Geoff Dalgas</td>\n",
              "      <td>2013-11-12 22:07:23</td>\n",
              "      <td>http://stackoverflow.com</td>\n",
              "      <td>Corvallis, OR</td>\n",
              "      <td>&lt;p&gt;Developer on the StackOverflow team.  Find ...</td>\n",
              "      <td>25</td>\n",
              "      <td>3</td>\n",
              "      <td>0</td>\n",
              "      <td>2</td>\n",
              "      <td>37.0</td>\n",
              "      <td>NaN</td>\n",
              "    </tr>\n",
              "    <tr>\n",
              "      <th>2</th>\n",
              "      <td>3</td>\n",
              "      <td>101</td>\n",
              "      <td>2010-07-19 15:34:50</td>\n",
              "      <td>Jarrod Dixon</td>\n",
              "      <td>2014-08-08 06:42:58</td>\n",
              "      <td>http://stackoverflow.com</td>\n",
              "      <td>New York, NY</td>\n",
              "      <td>&lt;p&gt;&lt;a href=\"http://blog.stackoverflow.com/2009...</td>\n",
              "      <td>22</td>\n",
              "      <td>19</td>\n",
              "      <td>0</td>\n",
              "      <td>3</td>\n",
              "      <td>35.0</td>\n",
              "      <td>NaN</td>\n",
              "    </tr>\n",
              "    <tr>\n",
              "      <th>3</th>\n",
              "      <td>4</td>\n",
              "      <td>101</td>\n",
              "      <td>2010-07-19 19:03:27</td>\n",
              "      <td>Emmett</td>\n",
              "      <td>2014-01-02 09:31:02</td>\n",
              "      <td>http://minesweeperonline.com</td>\n",
              "      <td>San Francisco, CA</td>\n",
              "      <td>&lt;p&gt;currently at a startup in SF&lt;/p&gt;\\n\\n&lt;p&gt;form...</td>\n",
              "      <td>11</td>\n",
              "      <td>0</td>\n",
              "      <td>0</td>\n",
              "      <td>1998</td>\n",
              "      <td>28.0</td>\n",
              "      <td>http://i.stack.imgur.com/d1oHX.jpg</td>\n",
              "    </tr>\n",
              "    <tr>\n",
              "      <th>4</th>\n",
              "      <td>5</td>\n",
              "      <td>6792</td>\n",
              "      <td>2010-07-19 19:03:57</td>\n",
              "      <td>Shane</td>\n",
              "      <td>2014-08-13 00:23:47</td>\n",
              "      <td>http://www.statalgo.com</td>\n",
              "      <td>New York, NY</td>\n",
              "      <td>&lt;p&gt;Quantitative researcher focusing on statist...</td>\n",
              "      <td>1145</td>\n",
              "      <td>662</td>\n",
              "      <td>5</td>\n",
              "      <td>54503</td>\n",
              "      <td>35.0</td>\n",
              "      <td>NaN</td>\n",
              "    </tr>\n",
              "  </tbody>\n",
              "</table>\n",
              "</div>"
            ],
            "text/plain": [
              "   userId  Reputation  ...   Age                     ProfileImageUrl\n",
              "0      -1           1  ...   NaN                                 NaN\n",
              "1       2         101  ...  37.0                                 NaN\n",
              "2       3         101  ...  35.0                                 NaN\n",
              "3       4         101  ...  28.0  http://i.stack.imgur.com/d1oHX.jpg\n",
              "4       5        6792  ...  35.0                                 NaN\n",
              "\n",
              "[5 rows x 14 columns]"
            ]
          },
          "metadata": {},
          "execution_count": 4
        }
      ]
    },
    {
      "cell_type": "markdown",
      "metadata": {
        "id": "QF0fh8NfBKaV"
      },
      "source": [
        "#### 4. Import posts table:"
      ]
    },
    {
      "cell_type": "code",
      "metadata": {
        "id": "gCCt2bsnBKaW"
      },
      "source": [
        "posts = pd.read_csv('https://raw.githubusercontent.com/renatorbf/lab-data-cleaning/master/your-code/posts_table.csv')"
      ],
      "execution_count": 5,
      "outputs": []
    },
    {
      "cell_type": "markdown",
      "metadata": {
        "id": "GHSPsNW2BKaW"
      },
      "source": [
        "#### 5. Rename Id column to postId and OwnerUserId to userId"
      ]
    },
    {
      "cell_type": "code",
      "metadata": {
        "id": "8igBrtiCBKaX"
      },
      "source": [
        "posts.rename(columns={'Id':'postId'}, inplace=True)"
      ],
      "execution_count": 6,
      "outputs": []
    },
    {
      "cell_type": "markdown",
      "metadata": {
        "id": "PuGM5pvbBKaX"
      },
      "source": [
        "#### 6. Define new dataframes for users and posts with the following selected columns:\n",
        "    **users columns**: userId, Reputation,Views,UpVotes,DownVotes\n",
        "    **posts columns**: postId, Score,userId,ViewCount,CommentCount"
      ]
    },
    {
      "cell_type": "code",
      "metadata": {
        "id": "Xp-BI6oFBKaX"
      },
      "source": [
        ""
      ],
      "execution_count": null,
      "outputs": []
    },
    {
      "cell_type": "markdown",
      "metadata": {
        "id": "CgbCDTqmBKaY"
      },
      "source": [
        "#### 7. Merge both dataframes, users and posts. \n",
        "You will need to make a [merge](https://pandas.pydata.org/pandas-docs/stable/generated/pandas.DataFrame.merge.html) of posts and users dataframes."
      ]
    },
    {
      "cell_type": "code",
      "metadata": {
        "id": "9TklMD4mBKaY"
      },
      "source": [
        ""
      ],
      "execution_count": null,
      "outputs": []
    },
    {
      "cell_type": "markdown",
      "metadata": {
        "id": "UpaMMbWjBKaZ"
      },
      "source": [
        "#### 8. How many missing values do you have in your merged dataframe? On which columns?"
      ]
    },
    {
      "cell_type": "code",
      "metadata": {
        "id": "EhWMNU61BKaa"
      },
      "source": [
        ""
      ],
      "execution_count": null,
      "outputs": []
    },
    {
      "cell_type": "markdown",
      "metadata": {
        "id": "GeKgi1NrBKaa"
      },
      "source": [
        "#### 9. You will need to make something with missing values.  Will you clean or filling them? Explain. \n",
        "**Remember** to check the results of your code before passing to the next step"
      ]
    },
    {
      "cell_type": "code",
      "metadata": {
        "id": "LndRwK8PBKaa"
      },
      "source": [
        ""
      ],
      "execution_count": null,
      "outputs": []
    },
    {
      "cell_type": "markdown",
      "metadata": {
        "id": "8he5ZFUrBKaa"
      },
      "source": [
        "#### 10. Adjust the data types in order to avoid future issues. Which ones should be changed? "
      ]
    },
    {
      "cell_type": "code",
      "metadata": {
        "id": "C47kJR-MBKab"
      },
      "source": [
        ""
      ],
      "execution_count": null,
      "outputs": []
    }
  ]
}