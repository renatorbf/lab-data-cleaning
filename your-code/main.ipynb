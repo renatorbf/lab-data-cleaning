{
  "nbformat": 4,
  "nbformat_minor": 0,
  "metadata": {
    "kernelspec": {
      "display_name": "Python 3",
      "language": "python",
      "name": "python3"
    },
    "language_info": {
      "codemirror_mode": {
        "name": "ipython",
        "version": 3
      },
      "file_extension": ".py",
      "mimetype": "text/x-python",
      "name": "python",
      "nbconvert_exporter": "python",
      "pygments_lexer": "ipython3",
      "version": "3.6.8"
    },
    "colab": {
      "name": "main.ipynb",
      "provenance": []
    }
  },
  "cells": [
    {
      "cell_type": "markdown",
      "metadata": {
        "id": "r_unjPJuBKaO"
      },
      "source": [
        "#### 1. Import pandas library"
      ]
    },
    {
      "cell_type": "code",
      "metadata": {
        "id": "pGf7IF-LBKaT"
      },
      "source": [
        "import pandas as pd"
      ],
      "execution_count": 14,
      "outputs": []
    },
    {
      "cell_type": "markdown",
      "metadata": {
        "id": "PpQguiyqBKaT"
      },
      "source": [
        "#### 2. Import users table:"
      ]
    },
    {
      "cell_type": "code",
      "metadata": {
        "id": "8-YlKoPDBKaU"
      },
      "source": [
        "users = pd.read_csv('https://raw.githubusercontent.com/renatorbf/lab-data-cleaning/master/your-code/users_table.csv')"
      ],
      "execution_count": 15,
      "outputs": []
    },
    {
      "cell_type": "markdown",
      "metadata": {
        "id": "S8kUuaO5BKaU"
      },
      "source": [
        "#### 3. Rename Id column to userId"
      ]
    },
    {
      "cell_type": "code",
      "metadata": {
        "id": "D1QN058RBKaV"
      },
      "source": [
        "users.rename(columns={'Id':'userId'}, inplace=True)"
      ],
      "execution_count": 16,
      "outputs": []
    },
    {
      "cell_type": "markdown",
      "metadata": {
        "id": "QF0fh8NfBKaV"
      },
      "source": [
        "#### 4. Import posts table:"
      ]
    },
    {
      "cell_type": "code",
      "metadata": {
        "id": "gCCt2bsnBKaW"
      },
      "source": [
        "posts = pd.read_csv('https://raw.githubusercontent.com/renatorbf/lab-data-cleaning/master/your-code/posts_table.csv')"
      ],
      "execution_count": 17,
      "outputs": []
    },
    {
      "cell_type": "markdown",
      "metadata": {
        "id": "GHSPsNW2BKaW"
      },
      "source": [
        "#### 5. Rename Id column to postId and OwnerUserId to userId"
      ]
    },
    {
      "cell_type": "code",
      "metadata": {
        "id": "8igBrtiCBKaX"
      },
      "source": [
        "posts.rename(columns={'Id':'postId'}, inplace=True)\n",
        "posts.rename(columns={'OwnerUserId':'userId'}, inplace=True)"
      ],
      "execution_count": 24,
      "outputs": []
    },
    {
      "cell_type": "markdown",
      "metadata": {
        "id": "PuGM5pvbBKaX"
      },
      "source": [
        "#### 6. Define new dataframes for users and posts with the following selected columns:\n",
        "    **users columns**: userId, Reputation,Views,UpVotes,DownVotes\n",
        "    **posts columns**: postId, Score,userId,ViewCount,CommentCount"
      ]
    },
    {
      "cell_type": "code",
      "metadata": {
        "id": "Xp-BI6oFBKaX"
      },
      "source": [
        "new_users = users[['userId', 'Reputation', 'Views', 'UpVotes', 'DownVotes']]\n",
        "\n",
        "new_posts = posts[['postId', 'Score', 'userId', 'ViewCount', 'CommentCount']]"
      ],
      "execution_count": 25,
      "outputs": []
    },
    {
      "cell_type": "markdown",
      "metadata": {
        "id": "CgbCDTqmBKaY"
      },
      "source": [
        "#### 7. Merge both dataframes, users and posts. \n",
        "You will need to make a [merge](https://pandas.pydata.org/pandas-docs/stable/generated/pandas.DataFrame.merge.html) of posts and users dataframes."
      ]
    },
    {
      "cell_type": "code",
      "metadata": {
        "id": "9TklMD4mBKaY"
      },
      "source": [
        "merged = pd.merge(left= new_users,\n",
        "         right= new_posts,\n",
        "         how = 'outer',\n",
        "         left_on = 'userId',\n",
        "         right_on = 'userId')"
      ],
      "execution_count": 28,
      "outputs": []
    },
    {
      "cell_type": "markdown",
      "metadata": {
        "id": "UpaMMbWjBKaZ"
      },
      "source": [
        "#### 8. How many missing values do you have in your merged dataframe? On which columns?"
      ]
    },
    {
      "cell_type": "code",
      "metadata": {
        "id": "EhWMNU61BKaa",
        "outputId": "98f37ed5-3c99-4e77-efb8-90855a104ad1",
        "colab": {
          "base_uri": "https://localhost:8080/"
        }
      },
      "source": [
        "merged.isnull().value_counts()"
      ],
      "execution_count": 30,
      "outputs": [
        {
          "output_type": "execute_result",
          "data": {
            "text/plain": [
              "userId  Reputation  Views  UpVotes  DownVotes  postId  Score  ViewCount  CommentCount\n",
              "False   False       False  False    False      True    True   True       True            32187\n",
              "                                               False   False  True       False           23572\n",
              "                                                              False      False           15390\n",
              "True    True        True   True     True       False   False  True       False             533\n",
              "                                                              False      False             505\n",
              "dtype: int64"
            ]
          },
          "metadata": {},
          "execution_count": 30
        }
      ]
    },
    {
      "cell_type": "markdown",
      "metadata": {
        "id": "GeKgi1NrBKaa"
      },
      "source": [
        "#### 9. You will need to make something with missing values.  Will you clean or filling them? Explain. \n",
        "**Remember** to check the results of your code before passing to the next step"
      ]
    },
    {
      "cell_type": "code",
      "metadata": {
        "id": "LndRwK8PBKaa"
      },
      "source": [
        ""
      ],
      "execution_count": null,
      "outputs": []
    },
    {
      "cell_type": "markdown",
      "metadata": {
        "id": "8he5ZFUrBKaa"
      },
      "source": [
        "#### 10. Adjust the data types in order to avoid future issues. Which ones should be changed? "
      ]
    },
    {
      "cell_type": "code",
      "metadata": {
        "id": "C47kJR-MBKab"
      },
      "source": [
        ""
      ],
      "execution_count": null,
      "outputs": []
    }
  ]
}